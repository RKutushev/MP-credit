{
 "cells": [
  {
   "cell_type": "markdown",
   "metadata": {},
   "source": [
    "Создайте двумерный массив 10x3, заполненный случайными значениями. В каждой строке выберите значение, наиболее близкое к 0.5."
   ]
  },
  {
   "cell_type": "code",
   "execution_count": 2,
   "metadata": {},
   "outputs": [
    {
     "name": "stdout",
     "output_type": "stream",
     "text": [
      "[[0.77819006 0.77736233 0.67021346]\n",
      " [0.08753024 0.20723565 0.53217627]\n",
      " [0.46140981 0.05829594 0.92526372]\n",
      " [0.56099648 0.41811539 0.07780649]\n",
      " [0.27068766 0.47827519 0.41420669]\n",
      " [0.97890029 0.68139951 0.93936247]\n",
      " [0.27493418 0.4318381  0.35665452]\n",
      " [0.41349446 0.70600236 0.11674727]\n",
      " [0.11025904 0.1690071  0.52723442]\n",
      " [0.89625317 0.66257597 0.73649917]]\n",
      "[0.67021346 0.53217627 0.53859019 0.56099648 0.52172481 0.68139951\n",
      " 0.5681619  0.58650554 0.52723442 0.66257597]\n"
     ]
    }
   ],
   "source": [
    "import numpy as np\n",
    "\n",
    "a =np.random.random((10,3)) -0.5\n",
    "\n",
    "print(a+0.5)\n",
    "\n",
    "print(np.min(abs(a)+0.5, axis = 1))"
   ]
  },
  {
   "cell_type": "markdown",
   "metadata": {},
   "source": [
    "Создайте двумерный массив 6x6, заполненный случайными значениями. Затем сумму по каждой строке поделите на минимальный элемент из столбца с тем же индексом."
   ]
  },
  {
   "cell_type": "code",
   "execution_count": 3,
   "metadata": {},
   "outputs": [
    {
     "name": "stdout",
     "output_type": "stream",
     "text": [
      "[[0.77481237 0.61213917 0.56083569 0.04972033 0.63310529 0.51993419]\n",
      " [0.22573002 0.77747212 0.89172292 0.83857935 0.78138055 0.79739219]\n",
      " [0.88161635 0.4751209  0.65973972 0.77575596 0.18376917 0.15776025]\n",
      " [0.16449567 0.76110267 0.84738786 0.26203135 0.02398534 0.23384997]\n",
      " [0.79128548 0.65060611 0.12112573 0.69926542 0.43993594 0.33422955]\n",
      " [0.63746467 0.15682649 0.62814449 0.33206138 0.21434566 0.71172172]]\n",
      "19.15276585682002\n",
      "27.497122976065555\n",
      "25.87197912289928\n",
      "46.11500132964772\n",
      "126.5960183184989\n",
      "16.991380243062476\n"
     ]
    }
   ],
   "source": [
    "import numpy as np\n",
    "s=0 \n",
    "min=0\n",
    "a=np.random.random((6, 6))\n",
    "print(a)\n",
    "\n",
    "for j in range(6):\n",
    "    s=0 \n",
    "    min=a[0][j]\n",
    "    for i in range (6):\n",
    "        if a[i][j]<min: \n",
    "             min=a[i][j]   \n",
    "    s=(np.sum(a[j]))/min\n",
    "    print(s)"
   ]
  },
  {
   "cell_type": "markdown",
   "metadata": {},
   "source": [
    "На примере массива x = np.array([6, 2, 0, 3, 0, 0, 5, 7, 0]) найдите максимальный элемент в массиве среди элементов, перед которыми стоит ноль."
   ]
  },
  {
   "cell_type": "code",
   "execution_count": 4,
   "metadata": {},
   "outputs": [
    {
     "name": "stdout",
     "output_type": "stream",
     "text": [
      "5\n"
     ]
    }
   ],
   "source": [
    "import numpy as np\n",
    "x = np.array([6, 2, 0, 3, 0, 0, 5, 7, 0])\n",
    "max=0;\n",
    "for i in range(8):\n",
    "    \n",
    "        if x[i+1]>max and x[i]==0 : \n",
    "             max=x[i+1]   \n",
    "print(max)"
   ]
  },
  {
   "cell_type": "markdown",
   "metadata": {},
   "source": [
    "Пусть заданы два массива x = np.ones(10) и i = np.array([0, 1, 2, 3, 5, 5, 5, 8]). Прибавьте единицу к тем элементам массива x, индексы которых указаны в массиве i. В случае, если некоторый индекс встретился в массиве i несколько раз, прибавьте к соответствующему элементу массива x число вхождений данного индекса в массив i.\n"
   ]
  },
  {
   "cell_type": "code",
   "execution_count": 6,
   "metadata": {},
   "outputs": [
    {
     "name": "stdout",
     "output_type": "stream",
     "text": [
      "[2. 2. 2. 2. 1. 4. 1. 1. 2. 1.]\n"
     ]
    }
   ],
   "source": [
    "import numpy as np\n",
    "j=0\n",
    "x = np.ones(10) \n",
    "i = np.array([0, 1, 2, 3, 5, 5, 5, 8])\n",
    "for j in i:\n",
    "    x[j]+=1   \n",
    "print(x)    "
   ]
  },
  {
   "cell_type": "markdown",
   "metadata": {},
   "source": [
    "Написать функцию, реализующую алгоритм k-means. Входные и выходные значения функции должны быть аналогичны https://docs.scipy.org/doc/scipy-0.15.1/reference/generated/scipy.cluster.vq.kmeans.html. Функция должна содержать только один цикл while (for)."
   ]
  },
  {
   "cell_type": "code",
   "execution_count": 7,
   "metadata": {},
   "outputs": [
    {
     "name": "stdout",
     "output_type": "stream",
     "text": [
      "{0: array([0]), 1: array([4, 1]), 2: array([8, 5, 2]), 3: array([12,  9,  6,  3]), 4: array([13, 10,  7]), 5: array([14, 11]), 6: array([15])}\n"
     ]
    }
   ],
   "source": [
    "a=np.arange(16).reshape(4,4)\n",
    "d=[a[::-1,:].diagonal(i) for i in range(-a.shape[0]+1,a.shape[1])]\n",
    "d = {b:d[b] for b in range(7)}\n",
    "print(d)"
   ]
  },
  {
   "cell_type": "markdown",
   "metadata": {},
   "source": [
    "С помощью реализованной функции kmeans выделить кластеры клиентов в разрезах возраст-доход, возрвст-покупательский индекс, доход-покупательский индекс. В каждом случае использовать elbow method для определения оптимального числа кластеров. Визуализировать полученные кластеры (каждый кластер изобразить собственным цветом). Дать интерпретацию полученным кластерам."
   ]
  },
  {
   "cell_type": "code",
   "execution_count": null,
   "metadata": {},
   "outputs": [],
   "source": []
  }
 ],
 "metadata": {
  "kernelspec": {
   "display_name": "Python 3",
   "language": "python",
   "name": "python3"
  },
  "language_info": {
   "codemirror_mode": {
    "name": "ipython",
    "version": 3
   },
   "file_extension": ".py",
   "mimetype": "text/x-python",
   "name": "python",
   "nbconvert_exporter": "python",
   "pygments_lexer": "ipython3",
   "version": "3.8.3"
  }
 },
 "nbformat": 4,
 "nbformat_minor": 2
}
