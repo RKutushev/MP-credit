{
 "cells": [
  {
   "cell_type": "markdown",
   "metadata": {},
   "source": [
    "Написать функцию, реализующую алгоритм k-means. Входные и выходные значения функции должны быть аналогичны https://docs.scipy.org/doc/scipy-0.15.1/reference/generated/scipy.cluster.vq.kmeans.html. Функция должна содержать только один цикл while (for)."
   ]
  },
  {
   "cell_type": "code",
   "execution_count": 27,
   "metadata": {},
   "outputs": [],
   "source": [
    "import matplotlib.pyplot as plt\n",
    "import numpy as np\n",
    "import seaborn as sns; sns.set()\n",
    "url = 'https://raw.githubusercontent.com/sharmaroshan/Clustering-of-Mall-Customers/master/Mall_Customers.csv'"
   ]
  },
  {
   "cell_type": "code",
   "execution_count": 28,
   "metadata": {},
   "outputs": [],
   "source": [
    "def get_label(pts, centroids):\n",
    "  pts = pts[:,np.newaxis,:] \n",
    "  bigmass = pts - centroids \n",
    "  dist = np.linalg.norm(bigmass, axis = 2)\n",
    "  return np.argmin(dist,axis = 1)\n",
    "\n",
    "\n",
    "def get_min(pts,centroids):\n",
    "  pts = pts[:,np.newaxis,:]\n",
    "  bigmass = pts - centroids\n",
    "  dist = np.linalg.norm(bigmass, axis = 2)\n",
    "  return np.min(dist,axis = 1)\n",
    "\n",
    "def get_distortion(pts,centroids):\n",
    "  return np.linalg.norm(get_min(pts,centroids))"
   ]
  },
  {
   "cell_type": "code",
   "execution_count": 29,
   "metadata": {},
   "outputs": [],
   "source": [
    "def my_kmeans(data, k, accuracy = 1e-05):\n",
    "  centroids = np.random.uniform(min(np.min(data, axis = 0)), max(np.max(data, axis = 0)), k*data.shape[1]).reshape(k, data.shape[1])\n",
    "  newCentroids = data[:k,:]\n",
    "  distortion = get_distortion(data,centroids)\n",
    "  labels = get_label(data, centroids)\n",
    "  while(np.linalg.norm(centroids-newCentroids)> accuracy):\n",
    "    distortion = get_distortion(data, centroids)\n",
    "    centroids = newCentroids\n",
    "    labels = get_label(data, centroids)\n",
    "    newCentroids = np.array([np.mean(data[np.where(labels == i)], axis = 0) for i in range(k)])\n",
    "  return newCentroids, get_distortion(data, newCentroids)"
   ]
  },
  {
   "cell_type": "markdown",
   "metadata": {},
   "source": [
    "С помощью реализованной функции kmeans выделить кластеры клиентов в разрезах возраст-доход, возрвст-покупательский индекс, доход-покупательский индекс. В каждом случае использовать elbow method для определения оптимального числа кластеров. Визуализировать полученные кластеры (каждый кластер изобразить собственным цветом). Дать интерпретацию полученным кластерам."
   ]
  },
  {
   "cell_type": "markdown",
   "metadata": {},
   "source": [
    "Первый разрез"
   ]
  },
  {
   "cell_type": "code",
   "execution_count": 40,
   "metadata": {},
   "outputs": [
    {
     "name": "stdout",
     "output_type": "stream",
     "text": [
      "[[ 19.  15.]\n",
      " [ 21.  15.]\n",
      " [ 20.  16.]\n",
      " [ 23.  16.]\n",
      " [ 31.  17.]\n",
      " [ 22.  17.]\n",
      " [ 35.  18.]\n",
      " [ 23.  18.]\n",
      " [ 64.  19.]\n",
      " [ 30.  19.]\n",
      " [ 67.  19.]\n",
      " [ 35.  19.]\n",
      " [ 58.  20.]\n",
      " [ 24.  20.]\n",
      " [ 37.  20.]\n",
      " [ 22.  20.]\n",
      " [ 35.  21.]\n",
      " [ 20.  21.]\n",
      " [ 52.  23.]\n",
      " [ 35.  23.]\n",
      " [ 35.  24.]\n",
      " [ 25.  24.]\n",
      " [ 46.  25.]\n",
      " [ 31.  25.]\n",
      " [ 54.  28.]\n",
      " [ 29.  28.]\n",
      " [ 45.  28.]\n",
      " [ 35.  28.]\n",
      " [ 40.  29.]\n",
      " [ 23.  29.]\n",
      " [ 60.  30.]\n",
      " [ 21.  30.]\n",
      " [ 53.  33.]\n",
      " [ 18.  33.]\n",
      " [ 49.  33.]\n",
      " [ 21.  33.]\n",
      " [ 42.  34.]\n",
      " [ 30.  34.]\n",
      " [ 36.  37.]\n",
      " [ 20.  37.]\n",
      " [ 65.  38.]\n",
      " [ 24.  38.]\n",
      " [ 48.  39.]\n",
      " [ 31.  39.]\n",
      " [ 49.  39.]\n",
      " [ 24.  39.]\n",
      " [ 50.  40.]\n",
      " [ 27.  40.]\n",
      " [ 29.  40.]\n",
      " [ 31.  40.]\n",
      " [ 49.  42.]\n",
      " [ 33.  42.]\n",
      " [ 31.  43.]\n",
      " [ 59.  43.]\n",
      " [ 50.  43.]\n",
      " [ 47.  43.]\n",
      " [ 51.  44.]\n",
      " [ 69.  44.]\n",
      " [ 27.  46.]\n",
      " [ 53.  46.]\n",
      " [ 70.  46.]\n",
      " [ 19.  46.]\n",
      " [ 67.  47.]\n",
      " [ 54.  47.]\n",
      " [ 63.  48.]\n",
      " [ 18.  48.]\n",
      " [ 43.  48.]\n",
      " [ 68.  48.]\n",
      " [ 19.  48.]\n",
      " [ 32.  48.]\n",
      " [ 70.  49.]\n",
      " [ 47.  49.]\n",
      " [ 60.  50.]\n",
      " [ 60.  50.]\n",
      " [ 59.  54.]\n",
      " [ 26.  54.]\n",
      " [ 45.  54.]\n",
      " [ 40.  54.]\n",
      " [ 23.  54.]\n",
      " [ 49.  54.]\n",
      " [ 57.  54.]\n",
      " [ 38.  54.]\n",
      " [ 67.  54.]\n",
      " [ 46.  54.]\n",
      " [ 21.  54.]\n",
      " [ 48.  54.]\n",
      " [ 55.  57.]\n",
      " [ 22.  57.]\n",
      " [ 34.  58.]\n",
      " [ 50.  58.]\n",
      " [ 68.  59.]\n",
      " [ 18.  59.]\n",
      " [ 48.  60.]\n",
      " [ 40.  60.]\n",
      " [ 32.  60.]\n",
      " [ 24.  60.]\n",
      " [ 47.  60.]\n",
      " [ 27.  60.]\n",
      " [ 48.  61.]\n",
      " [ 20.  61.]\n",
      " [ 23.  62.]\n",
      " [ 49.  62.]\n",
      " [ 67.  62.]\n",
      " [ 26.  62.]\n",
      " [ 49.  62.]\n",
      " [ 21.  62.]\n",
      " [ 66.  63.]\n",
      " [ 54.  63.]\n",
      " [ 68.  63.]\n",
      " [ 66.  63.]\n",
      " [ 65.  63.]\n",
      " [ 19.  63.]\n",
      " [ 38.  64.]\n",
      " [ 19.  64.]\n",
      " [ 18.  65.]\n",
      " [ 19.  65.]\n",
      " [ 63.  65.]\n",
      " [ 49.  65.]\n",
      " [ 51.  67.]\n",
      " [ 50.  67.]\n",
      " [ 27.  67.]\n",
      " [ 38.  67.]\n",
      " [ 40.  69.]\n",
      " [ 39.  69.]\n",
      " [ 23.  70.]\n",
      " [ 31.  70.]\n",
      " [ 43.  71.]\n",
      " [ 40.  71.]\n",
      " [ 59.  71.]\n",
      " [ 38.  71.]\n",
      " [ 47.  71.]\n",
      " [ 39.  71.]\n",
      " [ 25.  72.]\n",
      " [ 31.  72.]\n",
      " [ 20.  73.]\n",
      " [ 29.  73.]\n",
      " [ 44.  73.]\n",
      " [ 32.  73.]\n",
      " [ 19.  74.]\n",
      " [ 35.  74.]\n",
      " [ 57.  75.]\n",
      " [ 32.  75.]\n",
      " [ 28.  76.]\n",
      " [ 32.  76.]\n",
      " [ 25.  77.]\n",
      " [ 28.  77.]\n",
      " [ 48.  77.]\n",
      " [ 32.  77.]\n",
      " [ 34.  78.]\n",
      " [ 34.  78.]\n",
      " [ 43.  78.]\n",
      " [ 39.  78.]\n",
      " [ 44.  78.]\n",
      " [ 38.  78.]\n",
      " [ 47.  78.]\n",
      " [ 27.  78.]\n",
      " [ 37.  78.]\n",
      " [ 30.  78.]\n",
      " [ 34.  78.]\n",
      " [ 30.  78.]\n",
      " [ 56.  79.]\n",
      " [ 29.  79.]\n",
      " [ 19.  81.]\n",
      " [ 31.  81.]\n",
      " [ 50.  85.]\n",
      " [ 36.  85.]\n",
      " [ 42.  86.]\n",
      " [ 33.  86.]\n",
      " [ 36.  87.]\n",
      " [ 32.  87.]\n",
      " [ 40.  87.]\n",
      " [ 28.  87.]\n",
      " [ 36.  87.]\n",
      " [ 36.  87.]\n",
      " [ 52.  88.]\n",
      " [ 30.  88.]\n",
      " [ 58.  88.]\n",
      " [ 27.  88.]\n",
      " [ 59.  93.]\n",
      " [ 35.  93.]\n",
      " [ 37.  97.]\n",
      " [ 32.  97.]\n",
      " [ 46.  98.]\n",
      " [ 29.  98.]\n",
      " [ 41.  99.]\n",
      " [ 30.  99.]\n",
      " [ 54. 101.]\n",
      " [ 28. 101.]\n",
      " [ 41. 103.]\n",
      " [ 36. 103.]\n",
      " [ 34. 103.]\n",
      " [ 32. 103.]\n",
      " [ 33. 113.]\n",
      " [ 38. 113.]\n",
      " [ 47. 120.]\n",
      " [ 35. 120.]\n",
      " [ 45. 126.]\n",
      " [ 32. 126.]\n",
      " [ 32. 137.]\n",
      " [ 30. 137.]]\n"
     ]
    }
   ],
   "source": [
    "dt = np.loadtxt(url, delimiter=',', dtype=object, skiprows=1)\n",
    "cols = [2,3]\n",
    "dat = dt[:, cols]\n",
    "data = dat.astype(np.float64)\n",
    "print(data)"
   ]
  },
  {
   "cell_type": "code",
   "execution_count": 41,
   "metadata": {
    "scrolled": true
   },
   "outputs": [
    {
     "data": {
      "text/plain": [
       "<function matplotlib.pyplot.show(*args, **kw)>"
      ]
     },
     "execution_count": 41,
     "metadata": {},
     "output_type": "execute_result"
    },
    {
     "data": {
      "image/png": "[encoded data removed]",
      "text/plain": [
       "<Figure size 432x288 with 1 Axes>"
      ]
     },
     "metadata": {},
     "output_type": "display_data"
    }
   ],
   "source": [
    "data -= np.mean(data, axis = 0) \n",
    "data /= np.std(data, axis = 0)\n",
    "plt.scatter(*data.T)\n",
    "plt.show"
   ]
  },
  {
   "cell_type": "code",
   "execution_count": 42,
   "metadata": {},
   "outputs": [
    {
     "name": "stdout",
     "output_type": "stream",
     "text": [
      "Input number of clasters 3\n"
     ]
    }
   ],
   "source": [
    "k = int(input(\"Input number of clasters \"))\n",
    "centroids, distortion = my_kmeans(data, k)\n",
    "labels = get_label(data, centroids)"
   ]
  },
  {
   "cell_type": "code",
   "execution_count": 43,
   "metadata": {},
   "outputs": [
    {
     "data": {
      "image/png": "[encoded data removed]",
      "text/plain": [
       "<Figure size 432x288 with 1 Axes>"
      ]
     },
     "metadata": {},
     "output_type": "display_data"
    }
   ],
   "source": [
    "colors = np.array(['blue', 'red', 'green', 'black', 'yellow', 'pink']*k)\n",
    "labels = get_label(data, centroids)\n",
    "plt.scatter(*data.T, c = colors[labels[:]])\n",
    "plt.scatter(*np.array(centroids).T, c = 'black', marker='*', s = 200)\n",
    "plt.title('Predicted Classes')\n",
    "plt.show()"
   ]
  },
  {
   "cell_type": "markdown",
   "metadata": {},
   "source": [
    "Второй разрез"
   ]
  },
  {
   "cell_type": "code",
   "execution_count": 44,
   "metadata": {},
   "outputs": [
    {
     "name": "stdout",
     "output_type": "stream",
     "text": [
      "[[19. 39.]\n",
      " [21. 81.]\n",
      " [20.  6.]\n",
      " [23. 77.]\n",
      " [31. 40.]\n",
      " [22. 76.]\n",
      " [35.  6.]\n",
      " [23. 94.]\n",
      " [64.  3.]\n",
      " [30. 72.]\n",
      " [67. 14.]\n",
      " [35. 99.]\n",
      " [58. 15.]\n",
      " [24. 77.]\n",
      " [37. 13.]\n",
      " [22. 79.]\n",
      " [35. 35.]\n",
      " [20. 66.]\n",
      " [52. 29.]\n",
      " [35. 98.]\n",
      " [35. 35.]\n",
      " [25. 73.]\n",
      " [46.  5.]\n",
      " [31. 73.]\n",
      " [54. 14.]\n",
      " [29. 82.]\n",
      " [45. 32.]\n",
      " [35. 61.]\n",
      " [40. 31.]\n",
      " [23. 87.]\n",
      " [60.  4.]\n",
      " [21. 73.]\n",
      " [53.  4.]\n",
      " [18. 92.]\n",
      " [49. 14.]\n",
      " [21. 81.]\n",
      " [42. 17.]\n",
      " [30. 73.]\n",
      " [36. 26.]\n",
      " [20. 75.]\n",
      " [65. 35.]\n",
      " [24. 92.]\n",
      " [48. 36.]\n",
      " [31. 61.]\n",
      " [49. 28.]\n",
      " [24. 65.]\n",
      " [50. 55.]\n",
      " [27. 47.]\n",
      " [29. 42.]\n",
      " [31. 42.]\n",
      " [49. 52.]\n",
      " [33. 60.]\n",
      " [31. 54.]\n",
      " [59. 60.]\n",
      " [50. 45.]\n",
      " [47. 41.]\n",
      " [51. 50.]\n",
      " [69. 46.]\n",
      " [27. 51.]\n",
      " [53. 46.]\n",
      " [70. 56.]\n",
      " [19. 55.]\n",
      " [67. 52.]\n",
      " [54. 59.]\n",
      " [63. 51.]\n",
      " [18. 59.]\n",
      " [43. 50.]\n",
      " [68. 48.]\n",
      " [19. 59.]\n",
      " [32. 47.]\n",
      " [70. 55.]\n",
      " [47. 42.]\n",
      " [60. 49.]\n",
      " [60. 56.]\n",
      " [59. 47.]\n",
      " [26. 54.]\n",
      " [45. 53.]\n",
      " [40. 48.]\n",
      " [23. 52.]\n",
      " [49. 42.]\n",
      " [57. 51.]\n",
      " [38. 55.]\n",
      " [67. 41.]\n",
      " [46. 44.]\n",
      " [21. 57.]\n",
      " [48. 46.]\n",
      " [55. 58.]\n",
      " [22. 55.]\n",
      " [34. 60.]\n",
      " [50. 46.]\n",
      " [68. 55.]\n",
      " [18. 41.]\n",
      " [48. 49.]\n",
      " [40. 40.]\n",
      " [32. 42.]\n",
      " [24. 52.]\n",
      " [47. 47.]\n",
      " [27. 50.]\n",
      " [48. 42.]\n",
      " [20. 49.]\n",
      " [23. 41.]\n",
      " [49. 48.]\n",
      " [67. 59.]\n",
      " [26. 55.]\n",
      " [49. 56.]\n",
      " [21. 42.]\n",
      " [66. 50.]\n",
      " [54. 46.]\n",
      " [68. 43.]\n",
      " [66. 48.]\n",
      " [65. 52.]\n",
      " [19. 54.]\n",
      " [38. 42.]\n",
      " [19. 46.]\n",
      " [18. 48.]\n",
      " [19. 50.]\n",
      " [63. 43.]\n",
      " [49. 59.]\n",
      " [51. 43.]\n",
      " [50. 57.]\n",
      " [27. 56.]\n",
      " [38. 40.]\n",
      " [40. 58.]\n",
      " [39. 91.]\n",
      " [23. 29.]\n",
      " [31. 77.]\n",
      " [43. 35.]\n",
      " [40. 95.]\n",
      " [59. 11.]\n",
      " [38. 75.]\n",
      " [47.  9.]\n",
      " [39. 75.]\n",
      " [25. 34.]\n",
      " [31. 71.]\n",
      " [20.  5.]\n",
      " [29. 88.]\n",
      " [44.  7.]\n",
      " [32. 73.]\n",
      " [19. 10.]\n",
      " [35. 72.]\n",
      " [57.  5.]\n",
      " [32. 93.]\n",
      " [28. 40.]\n",
      " [32. 87.]\n",
      " [25. 12.]\n",
      " [28. 97.]\n",
      " [48. 36.]\n",
      " [32. 74.]\n",
      " [34. 22.]\n",
      " [34. 90.]\n",
      " [43. 17.]\n",
      " [39. 88.]\n",
      " [44. 20.]\n",
      " [38. 76.]\n",
      " [47. 16.]\n",
      " [27. 89.]\n",
      " [37.  1.]\n",
      " [30. 78.]\n",
      " [34.  1.]\n",
      " [30. 73.]\n",
      " [56. 35.]\n",
      " [29. 83.]\n",
      " [19.  5.]\n",
      " [31. 93.]\n",
      " [50. 26.]\n",
      " [36. 75.]\n",
      " [42. 20.]\n",
      " [33. 95.]\n",
      " [36. 27.]\n",
      " [32. 63.]\n",
      " [40. 13.]\n",
      " [28. 75.]\n",
      " [36. 10.]\n",
      " [36. 92.]\n",
      " [52. 13.]\n",
      " [30. 86.]\n",
      " [58. 15.]\n",
      " [27. 69.]\n",
      " [59. 14.]\n",
      " [35. 90.]\n",
      " [37. 32.]\n",
      " [32. 86.]\n",
      " [46. 15.]\n",
      " [29. 88.]\n",
      " [41. 39.]\n",
      " [30. 97.]\n",
      " [54. 24.]\n",
      " [28. 68.]\n",
      " [41. 17.]\n",
      " [36. 85.]\n",
      " [34. 23.]\n",
      " [32. 69.]\n",
      " [33.  8.]\n",
      " [38. 91.]\n",
      " [47. 16.]\n",
      " [35. 79.]\n",
      " [45. 28.]\n",
      " [32. 74.]\n",
      " [32. 18.]\n",
      " [30. 83.]]\n"
     ]
    }
   ],
   "source": [
    "dt = np.loadtxt(url, delimiter=',', dtype=object, skiprows=1)\n",
    "cols = [2,4]\n",
    "dat = dt[:, cols]\n",
    "data = dat.astype(np.float64)\n",
    "print(data)"
   ]
  },
  {
   "cell_type": "code",
   "execution_count": 45,
   "metadata": {},
   "outputs": [
    {
     "data": {
      "text/plain": [
       "<function matplotlib.pyplot.show(*args, **kw)>"
      ]
     },
     "execution_count": 45,
     "metadata": {},
     "output_type": "execute_result"
    },
    {
     "data": {
      "image/png": "[encoded data removed]",
      "text/plain": [
       "<Figure size 432x288 with 1 Axes>"
      ]
     },
     "metadata": {},
     "output_type": "display_data"
    }
   ],
   "source": [
    "data -= np.mean(data, axis = 0) \n",
    "data /= np.std(data, axis = 0)\n",
    "plt.scatter(*data.T)\n",
    "plt.show"
   ]
  },
  {
   "cell_type": "code",
   "execution_count": 46,
   "metadata": {},
   "outputs": [
    {
     "name": "stdout",
     "output_type": "stream",
     "text": [
      "Input number of clasters 3\n"
     ]
    }
   ],
   "source": [
    "k = int(input(\"Input number of clasters \"))\n",
    "centroids, distortion = my_kmeans(data, k)\n",
    "labels = get_label(data, centroids)"
   ]
  },
  {
   "cell_type": "code",
   "execution_count": 47,
   "metadata": {},
   "outputs": [
    {
     "data": {
      "image/png": "[encoded data removed]",
      "text/plain": [
       "<Figure size 432x288 with 1 Axes>"
      ]
     },
     "metadata": {},
     "output_type": "display_data"
    }
   ],
   "source": [
    "colors = np.array(['blue', 'red', 'green', 'black', 'yellow', 'pink']*k)\n",
    "labels = get_label(data, centroids)\n",
    "plt.scatter(*data.T, c = colors[labels[:]])\n",
    "plt.scatter(*np.array(centroids).T, c = 'black', marker='*', s = 200)\n",
    "plt.title('Predicted Classes')\n",
    "plt.show()"
   ]
  },
  {
   "cell_type": "code",
   "execution_count": null,
   "metadata": {},
   "outputs": [],
   "source": []
  }
 ],
 "metadata": {
  "kernelspec": {
   "display_name": "Python 3",
   "language": "python",
   "name": "python3"
  },
  "language_info": {
   "codemirror_mode": {
    "name": "ipython",
    "version": 3
   },
   "file_extension": ".py",
   "mimetype": "text/x-python",
   "name": "python",
   "nbconvert_exporter": "python",
   "pygments_lexer": "ipython3",
   "version": "3.8.3"
  }
 },
 "nbformat": 4,
 "nbformat_minor": 4
}
